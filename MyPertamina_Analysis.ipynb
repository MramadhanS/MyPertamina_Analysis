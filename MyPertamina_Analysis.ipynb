{
  "nbformat": 4,
  "nbformat_minor": 0,
  "metadata": {
    "colab": {
      "provenance": [],
      "gpuType": "T4"
    },
    "kernelspec": {
      "name": "python3",
      "display_name": "Python 3"
    },
    "language_info": {
      "name": "python"
    },
    "accelerator": "GPU"
  },
  "cells": [
    {
      "cell_type": "markdown",
      "source": [
        "# IMPORT LIBRARY & DATA PREPARATION"
      ],
      "metadata": {
        "id": "ckIfXli7DeqI"
      }
    },
    {
      "cell_type": "code",
      "source": [
        "# 1. Import Library yang Diperlukan\n",
        "import pandas as pd\n",
        "import re\n",
        "import numpy as np\n",
        "import matplotlib.pyplot as plt\n",
        "import seaborn as sns\n"
      ],
      "metadata": {
        "id": "Fap3JA6w6E5_"
      },
      "execution_count": 3,
      "outputs": []
    },
    {
      "cell_type": "code",
      "source": [
        "try:\n",
        "    df = pd.read_csv('myPertamina_review.csv')\n",
        "    print(\"✅ Dataset berhasil dimuat!\")\n",
        "except FileNotFoundError:\n",
        "    print(\"❌ ERROR: File 'myPertamina_review.csv' tidak ditemukan. Pastikan file sudah diunggah.\")\n",
        "    # Stop eksekusi jika file tidak ditemukan\n",
        "    raise"
      ],
      "metadata": {
        "colab": {
          "base_uri": "https://localhost:8080/"
        },
        "id": "TnzX2-pl6ejq",
        "outputId": "63bdb53a-3d5d-4d68-b123-6ce46ef23fcd"
      },
      "execution_count": 3,
      "outputs": [
        {
          "output_type": "stream",
          "name": "stdout",
          "text": [
            "✅ Dataset berhasil dimuat!\n"
          ]
        }
      ]
    },
    {
      "cell_type": "markdown",
      "source": [
        "# Preprocessing Data"
      ],
      "metadata": {
        "id": "gOjsTyhSDuTP"
      }
    },
    {
      "cell_type": "code",
      "source": [
        "print(\"\\n--- 3.1 Informasi Dasar Dataset ---\")\n",
        "df.info()\n",
        "\n",
        "print(\"\\n--- 3.2 5 Baris Pertama ---\")\n",
        "print(df[['content', 'score', 'at']].head().to_markdown(index=False))\n",
        "\n",
        "print(\"\\n--- 3.3 Distribusi Skor (Bintang) ---\")\n",
        "# Menghitung dan memvisualisasikan distribusi skor\n",
        "score_counts = df['score'].value_counts(normalize=True).mul(100).sort_index()\n",
        "print(score_counts.to_markdown(numalign=\"left\", stralign=\"left\"))\n",
        "\n",
        "plt.figure(figsize=(7, 4))\n",
        "sns.barplot(x=score_counts.index, y=score_counts.values, palette=\"viridis\")\n",
        "plt.title('Distribusi Skor Ulasan Pengguna')\n",
        "plt.xlabel('Skor (Bintang)')\n",
        "plt.ylabel('Persentase')\n",
        "plt.show()"
      ],
      "metadata": {
        "id": "i0ksgjRl6mPZ",
        "colab": {
          "base_uri": "https://localhost:8080/",
          "height": 1000
        },
        "outputId": "6cf90960-8d75-4b51-da9e-791377b8f919"
      },
      "execution_count": 4,
      "outputs": [
        {
          "output_type": "stream",
          "name": "stdout",
          "text": [
            "\n",
            "--- 3.1 Informasi Dasar Dataset ---\n",
            "<class 'pandas.core.frame.DataFrame'>\n",
            "RangeIndex: 20000 entries, 0 to 19999\n",
            "Data columns (total 11 columns):\n",
            " #   Column                Non-Null Count  Dtype \n",
            "---  ------                --------------  ----- \n",
            " 0   reviewId              20000 non-null  object\n",
            " 1   userName              20000 non-null  object\n",
            " 2   userImage             20000 non-null  object\n",
            " 3   content               19999 non-null  object\n",
            " 4   score                 20000 non-null  int64 \n",
            " 5   thumbsUpCount         20000 non-null  int64 \n",
            " 6   reviewCreatedVersion  16865 non-null  object\n",
            " 7   at                    20000 non-null  object\n",
            " 8   replyContent          4589 non-null   object\n",
            " 9   repliedAt             4589 non-null   object\n",
            " 10  appVersion            16865 non-null  object\n",
            "dtypes: int64(2), object(9)\n",
            "memory usage: 1.7+ MB\n",
            "\n",
            "--- 3.2 5 Baris Pertama ---\n",
            "| content                                                                                                                                                                                                                                                                                                       |   score | at                  |\n",
            "|:--------------------------------------------------------------------------------------------------------------------------------------------------------------------------------------------------------------------------------------------------------------------------------------------------------------|--------:|:--------------------|\n",
            "| ok                                                                                                                                                                                                                                                                                                            |       5 | 2025-02-24 03:26:54 |\n",
            "| Good                                                                                                                                                                                                                                                                                                          |       5 | 2025-02-24 02:50:32 |\n",
            "| Memudahkan dalam bertransaksi                                                                                                                                                                                                                                                                                 |       5 | 2025-02-24 02:00:12 |\n",
            "| Apk tidak jelas komplain gak di respon jawabannya sama setiap minta keterangan.. Barcode di blokir.. Sudah mengisi persyaratan dan sdh dapat ID pelaporan... Sampai sekarang 1 bln lebih tidak ada kejelasan. Ya Alloh sungguh sedih untuk mencari keadilan di negara ini... Karena oknum yang tidak kompeten |       1 | 2025-02-24 01:37:01 |\n",
            "| berguna sekali disaat tidak membawa uang tunai dan juga ad promo setiap pembelian produk pertamax series..                                                                                                                                                                                                    |       5 | 2025-02-24 00:21:39 |\n",
            "\n",
            "--- 3.3 Distribusi Skor (Bintang) ---\n",
            "| score   | proportion   |\n",
            "|:--------|:-------------|\n",
            "| 1       | 47.155       |\n",
            "| 2       | 5.025        |\n",
            "| 3       | 4.42         |\n",
            "| 4       | 4.69         |\n",
            "| 5       | 38.71        |\n"
          ]
        },
        {
          "output_type": "stream",
          "name": "stderr",
          "text": [
            "/tmp/ipython-input-1005720748.py:13: FutureWarning: \n",
            "\n",
            "Passing `palette` without assigning `hue` is deprecated and will be removed in v0.14.0. Assign the `x` variable to `hue` and set `legend=False` for the same effect.\n",
            "\n",
            "  sns.barplot(x=score_counts.index, y=score_counts.values, palette=\"viridis\")\n"
          ]
        },
        {
          "output_type": "display_data",
          "data": {
            "text/plain": [
              "<Figure size 700x400 with 1 Axes>"
            ],
            "image/png": "[encoded data removed]"
          },
          "metadata": {}
        }
      ]
    },
    {
      "cell_type": "code",
      "source": [
        "def clean_text(text):\n",
        "    if not isinstance(text, str):\n",
        "        return \"\"\n",
        "    # 1. Mengubah teks menjadi huruf kecil (lowercase)\n",
        "    text = text.lower()\n",
        "    # 2. Menghapus tautan (URLs)\n",
        "    text = re.sub(r'http\\S+|www.\\S+', '', text)\n",
        "    # 3. Menghapus karakter non-alfanumerik selain spasi (misalnya tanda baca, simbol)\n",
        "    # Catatan: Tanda seru/tanya penting untuk sentimen, tapi kita hapus dulu\n",
        "    # untuk fokus pada klasifikasi isu. Kita akan pertimbangkan lagi nanti.\n",
        "    text = re.sub(r'[^a-z0-9\\s]', '', text)\n",
        "    # 4. Menghapus angka (opsional, tergantung isu)\n",
        "    # text = re.sub(r'\\d+', '', text)\n",
        "    # 5. Menghapus spasi berlebih\n",
        "    text = re.sub(r'\\s+', ' ', text).strip()\n",
        "    return text\n",
        "\n",
        "# Terapkan fungsi pembersihan ke kolom 'content'\n",
        "df['cleaned_content'] = df['content'].apply(clean_text)\n",
        "\n",
        "print(\"\\n--- 4. Hasil Pembersihan Data ---\")\n",
        "print(df[['content', 'cleaned_content']].head().to_markdown(index=False))"
      ],
      "metadata": {
        "colab": {
          "base_uri": "https://localhost:8080/"
        },
        "id": "UgIW1oR36rdJ",
        "outputId": "16e394c7-7f9c-4316-e9d4-bbee584ceb1e"
      },
      "execution_count": 6,
      "outputs": [
        {
          "output_type": "stream",
          "name": "stdout",
          "text": [
            "\n",
            "--- 4. Hasil Pembersihan Data ---\n",
            "| content                                                                                                                                                                                                                                                                                                       | cleaned_content                                                                                                                                                                                                                                                                                    |\n",
            "|:--------------------------------------------------------------------------------------------------------------------------------------------------------------------------------------------------------------------------------------------------------------------------------------------------------------|:---------------------------------------------------------------------------------------------------------------------------------------------------------------------------------------------------------------------------------------------------------------------------------------------------|\n",
            "| ok                                                                                                                                                                                                                                                                                                            | ok                                                                                                                                                                                                                                                                                                 |\n",
            "| Good                                                                                                                                                                                                                                                                                                          | good                                                                                                                                                                                                                                                                                               |\n",
            "| Memudahkan dalam bertransaksi                                                                                                                                                                                                                                                                                 | memudahkan dalam bertransaksi                                                                                                                                                                                                                                                                      |\n",
            "| Apk tidak jelas komplain gak di respon jawabannya sama setiap minta keterangan.. Barcode di blokir.. Sudah mengisi persyaratan dan sdh dapat ID pelaporan... Sampai sekarang 1 bln lebih tidak ada kejelasan. Ya Alloh sungguh sedih untuk mencari keadilan di negara ini... Karena oknum yang tidak kompeten | apk tidak jelas komplain gak di respon jawabannya sama setiap minta keterangan barcode di blokir sudah mengisi persyaratan dan sdh dapat id pelaporan sampai sekarang 1 bln lebih tidak ada kejelasan ya alloh sungguh sedih untuk mencari keadilan di negara ini karena oknum yang tidak kompeten |\n",
            "| berguna sekali disaat tidak membawa uang tunai dan juga ad promo setiap pembelian produk pertamax series..                                                                                                                                                                                                    | berguna sekali disaat tidak membawa uang tunai dan juga ad promo setiap pembelian produk pertamax series                                                                                                                                                                                           |\n"
          ]
        }
      ]
    },
    {
      "cell_type": "code",
      "source": [
        "df['sentiment_label'] = df['score'].apply(\n",
        "    lambda x: 'Negatif' if x <= 2 else ('Positif' if x >= 4 else 'Netral')\n",
        ")\n",
        "\n",
        "print(\"\\n--- 5. Distribusi Sentimen Setelah Dikelompokkan ---\")\n",
        "print(df['sentiment_label'].value_counts().to_markdown())\n",
        "\n",
        "# Simpan data yang sudah dibersihkan untuk Tahap 2\n",
        "df.to_csv('myPertamina_cleaned.csv', index=False)\n",
        "print(\"\\n✅ Data yang dibersihkan telah disimpan sebagai 'myPertamina_cleaned.csv' untuk Tahap 2.\")"
      ],
      "metadata": {
        "colab": {
          "base_uri": "https://localhost:8080/"
        },
        "id": "apMK0PEz65yP",
        "outputId": "fe480e52-286c-4ab4-d6b4-7afca83b7a95"
      },
      "execution_count": 7,
      "outputs": [
        {
          "output_type": "stream",
          "name": "stdout",
          "text": [
            "\n",
            "--- 5. Distribusi Sentimen Setelah Dikelompokkan ---\n",
            "| sentiment_label   |   count |\n",
            "|:------------------|--------:|\n",
            "| Negatif           |   10436 |\n",
            "| Positif           |    8680 |\n",
            "| Netral            |     884 |\n",
            "\n",
            "✅ Data yang dibersihkan telah disimpan sebagai 'myPertamina_cleaned.csv' untuk Tahap 2.\n"
          ]
        }
      ]
    },
    {
      "cell_type": "markdown",
      "source": [
        "# IBM GRANITE"
      ],
      "metadata": {
        "id": "xwe_4crBE0Ak"
      }
    },
    {
      "cell_type": "code",
      "source": [
        "!pip install ibm-watson-machine-learning"
      ],
      "metadata": {
        "colab": {
          "base_uri": "https://localhost:8080/",
          "height": 1000
        },
        "id": "_JXjtqCVE2r9",
        "outputId": "885cc66c-6155-41cb-a761-4af1f7163ddc"
      },
      "execution_count": 8,
      "outputs": [
        {
          "output_type": "stream",
          "name": "stdout",
          "text": [
            "Collecting ibm-watson-machine-learning\n",
            "  Downloading ibm_watson_machine_learning-1.0.368-py3-none-any.whl.metadata (4.7 kB)\n",
            "Requirement already satisfied: requests in /usr/local/lib/python3.12/dist-packages (from ibm-watson-machine-learning) (2.32.4)\n",
            "Requirement already satisfied: urllib3 in /usr/local/lib/python3.12/dist-packages (from ibm-watson-machine-learning) (2.5.0)\n",
            "Collecting pandas<2.2.0,>=0.24.2 (from ibm-watson-machine-learning)\n",
            "  Downloading pandas-2.1.4-cp312-cp312-manylinux_2_17_x86_64.manylinux2014_x86_64.whl.metadata (18 kB)\n",
            "Requirement already satisfied: certifi in /usr/local/lib/python3.12/dist-packages (from ibm-watson-machine-learning) (2025.8.3)\n",
            "Collecting lomond (from ibm-watson-machine-learning)\n",
            "  Downloading lomond-0.3.3-py2.py3-none-any.whl.metadata (4.1 kB)\n",
            "Requirement already satisfied: tabulate in /usr/local/lib/python3.12/dist-packages (from ibm-watson-machine-learning) (0.9.0)\n",
            "Requirement already satisfied: packaging in /usr/local/lib/python3.12/dist-packages (from ibm-watson-machine-learning) (25.0)\n",
            "Collecting ibm-cos-sdk<2.15.0,>=2.12.0 (from ibm-watson-machine-learning)\n",
            "  Downloading ibm_cos_sdk-2.14.3.tar.gz (58 kB)\n",
            "\u001b[2K     \u001b[90m━━━━━━━━━━━━━━━━━━━━━━━━━━━━━━━━━━━━━━━━\u001b[0m \u001b[32m58.8/58.8 kB\u001b[0m \u001b[31m3.2 MB/s\u001b[0m eta \u001b[36m0:00:00\u001b[0m\n",
            "\u001b[?25h  Preparing metadata (setup.py) ... \u001b[?25l\u001b[?25hdone\n",
            "Requirement already satisfied: importlib-metadata in /usr/local/lib/python3.12/dist-packages (from ibm-watson-machine-learning) (8.7.0)\n",
            "Collecting ibm-cos-sdk-core==2.14.3 (from ibm-cos-sdk<2.15.0,>=2.12.0->ibm-watson-machine-learning)\n",
            "  Downloading ibm_cos_sdk_core-2.14.3.tar.gz (1.1 MB)\n",
            "\u001b[2K     \u001b[90m━━━━━━━━━━━━━━━━━━━━━━━━━━━━━━━━━━━━━━━━\u001b[0m \u001b[32m1.1/1.1 MB\u001b[0m \u001b[31m24.5 MB/s\u001b[0m eta \u001b[36m0:00:00\u001b[0m\n",
            "\u001b[?25h  Preparing metadata (setup.py) ... \u001b[?25l\u001b[?25hdone\n",
            "Collecting ibm-cos-sdk-s3transfer==2.14.3 (from ibm-cos-sdk<2.15.0,>=2.12.0->ibm-watson-machine-learning)\n",
            "  Downloading ibm_cos_sdk_s3transfer-2.14.3.tar.gz (139 kB)\n",
            "\u001b[2K     \u001b[90m━━━━━━━━━━━━━━━━━━━━━━━━━━━━━━━━━━━━━━\u001b[0m \u001b[32m139.6/139.6 kB\u001b[0m \u001b[31m11.3 MB/s\u001b[0m eta \u001b[36m0:00:00\u001b[0m\n",
            "\u001b[?25h  Preparing metadata (setup.py) ... \u001b[?25l\u001b[?25hdone\n",
            "Collecting jmespath<=1.0.1,>=0.10.0 (from ibm-cos-sdk<2.15.0,>=2.12.0->ibm-watson-machine-learning)\n",
            "  Downloading jmespath-1.0.1-py3-none-any.whl.metadata (7.6 kB)\n",
            "Requirement already satisfied: python-dateutil<3.0.0,>=2.9.0 in /usr/local/lib/python3.12/dist-packages (from ibm-cos-sdk-core==2.14.3->ibm-cos-sdk<2.15.0,>=2.12.0->ibm-watson-machine-learning) (2.9.0.post0)\n",
            "Collecting numpy<2,>=1.26.0 (from pandas<2.2.0,>=0.24.2->ibm-watson-machine-learning)\n",
            "  Downloading numpy-1.26.4-cp312-cp312-manylinux_2_17_x86_64.manylinux2014_x86_64.whl.metadata (61 kB)\n",
            "\u001b[2K     \u001b[90m━━━━━━━━━━━━━━━━━━━━━━━━━━━━━━━━━━━━━━━━\u001b[0m \u001b[32m61.0/61.0 kB\u001b[0m \u001b[31m6.5 MB/s\u001b[0m eta \u001b[36m0:00:00\u001b[0m\n",
            "\u001b[?25hRequirement already satisfied: pytz>=2020.1 in /usr/local/lib/python3.12/dist-packages (from pandas<2.2.0,>=0.24.2->ibm-watson-machine-learning) (2025.2)\n",
            "Requirement already satisfied: tzdata>=2022.1 in /usr/local/lib/python3.12/dist-packages (from pandas<2.2.0,>=0.24.2->ibm-watson-machine-learning) (2025.2)\n",
            "Requirement already satisfied: charset_normalizer<4,>=2 in /usr/local/lib/python3.12/dist-packages (from requests->ibm-watson-machine-learning) (3.4.3)\n",
            "Requirement already satisfied: idna<4,>=2.5 in /usr/local/lib/python3.12/dist-packages (from requests->ibm-watson-machine-learning) (3.10)\n",
            "Requirement already satisfied: zipp>=3.20 in /usr/local/lib/python3.12/dist-packages (from importlib-metadata->ibm-watson-machine-learning) (3.23.0)\n",
            "Requirement already satisfied: six>=1.10.0 in /usr/local/lib/python3.12/dist-packages (from lomond->ibm-watson-machine-learning) (1.17.0)\n",
            "Downloading ibm_watson_machine_learning-1.0.368-py3-none-any.whl (1.3 MB)\n",
            "\u001b[2K   \u001b[90m━━━━━━━━━━━━━━━━━━━━━━━━━━━━━━━━━━━━━━━━\u001b[0m \u001b[32m1.3/1.3 MB\u001b[0m \u001b[31m61.5 MB/s\u001b[0m eta \u001b[36m0:00:00\u001b[0m\n",
            "\u001b[?25hDownloading pandas-2.1.4-cp312-cp312-manylinux_2_17_x86_64.manylinux2014_x86_64.whl (11.7 MB)\n",
            "\u001b[2K   \u001b[90m━━━━━━━━━━━━━━━━━━━━━━━━━━━━━━━━━━━━━━━━\u001b[0m \u001b[32m11.7/11.7 MB\u001b[0m \u001b[31m114.2 MB/s\u001b[0m eta \u001b[36m0:00:00\u001b[0m\n",
            "\u001b[?25hDownloading lomond-0.3.3-py2.py3-none-any.whl (35 kB)\n",
            "Downloading jmespath-1.0.1-py3-none-any.whl (20 kB)\n",
            "Downloading numpy-1.26.4-cp312-cp312-manylinux_2_17_x86_64.manylinux2014_x86_64.whl (18.0 MB)\n",
            "\u001b[2K   \u001b[90m━━━━━━━━━━━━━━━━━━━━━━━━━━━━━━━━━━━━━━━━\u001b[0m \u001b[32m18.0/18.0 MB\u001b[0m \u001b[31m116.5 MB/s\u001b[0m eta \u001b[36m0:00:00\u001b[0m\n",
            "\u001b[?25hBuilding wheels for collected packages: ibm-cos-sdk, ibm-cos-sdk-core, ibm-cos-sdk-s3transfer\n",
            "  Building wheel for ibm-cos-sdk (setup.py) ... \u001b[?25l\u001b[?25hdone\n",
            "  Created wheel for ibm-cos-sdk: filename=ibm_cos_sdk-2.14.3-py3-none-any.whl size=77232 sha256=a220cf8a8965cd6e8a5bcad4768585d6ea752206e9240bcd2695116ffb4ce627\n",
            "  Stored in directory: /root/.cache/pip/wheels/cc/2f/6f/125918ad46d280d3bea58edf99f0757888ef6e7999db4b73b7\n",
            "  Building wheel for ibm-cos-sdk-core (setup.py) ... \u001b[?25l\u001b[?25hdone\n",
            "  Created wheel for ibm-cos-sdk-core: filename=ibm_cos_sdk_core-2.14.3-py3-none-any.whl size=662101 sha256=c4f46f72845f7d877337d378dacc8b22a09d350ab0ce22c3498343365712a954\n",
            "  Stored in directory: /root/.cache/pip/wheels/f1/53/13/7c8fdeebdb847995d8ef349b4f695c595d8d31b30ae2a07ea2\n",
            "  Building wheel for ibm-cos-sdk-s3transfer (setup.py) ... \u001b[?25l\u001b[?25hdone\n",
            "  Created wheel for ibm-cos-sdk-s3transfer: filename=ibm_cos_sdk_s3transfer-2.14.3-py3-none-any.whl size=90203 sha256=d47315fe9b2da46b53093a9a9876fb55bc7918f4d05671fba720d866cdaa78f1\n",
            "  Stored in directory: /root/.cache/pip/wheels/0c/8b/10/0346c5a955b48b7fca50a8a42de309546b22899b7e8c1da8a5\n",
            "Successfully built ibm-cos-sdk ibm-cos-sdk-core ibm-cos-sdk-s3transfer\n",
            "Installing collected packages: numpy, lomond, jmespath, pandas, ibm-cos-sdk-core, ibm-cos-sdk-s3transfer, ibm-cos-sdk, ibm-watson-machine-learning\n",
            "  Attempting uninstall: numpy\n",
            "    Found existing installation: numpy 2.0.2\n",
            "    Uninstalling numpy-2.0.2:\n",
            "      Successfully uninstalled numpy-2.0.2\n",
            "  Attempting uninstall: pandas\n",
            "    Found existing installation: pandas 2.2.2\n",
            "    Uninstalling pandas-2.2.2:\n",
            "      Successfully uninstalled pandas-2.2.2\n",
            "\u001b[31mERROR: pip's dependency resolver does not currently take into account all the packages that are installed. This behaviour is the source of the following dependency conflicts.\n",
            "google-colab 1.0.0 requires pandas==2.2.2, but you have pandas 2.1.4 which is incompatible.\n",
            "opencv-python-headless 4.12.0.88 requires numpy<2.3.0,>=2; python_version >= \"3.9\", but you have numpy 1.26.4 which is incompatible.\n",
            "opencv-contrib-python 4.12.0.88 requires numpy<2.3.0,>=2; python_version >= \"3.9\", but you have numpy 1.26.4 which is incompatible.\n",
            "plotnine 0.14.5 requires pandas>=2.2.0, but you have pandas 2.1.4 which is incompatible.\n",
            "thinc 8.3.6 requires numpy<3.0.0,>=2.0.0, but you have numpy 1.26.4 which is incompatible.\n",
            "mizani 0.13.5 requires pandas>=2.2.0, but you have pandas 2.1.4 which is incompatible.\n",
            "opencv-python 4.12.0.88 requires numpy<2.3.0,>=2; python_version >= \"3.9\", but you have numpy 1.26.4 which is incompatible.\n",
            "xarray 2025.9.1 requires pandas>=2.2, but you have pandas 2.1.4 which is incompatible.\u001b[0m\u001b[31m\n",
            "\u001b[0mSuccessfully installed ibm-cos-sdk-2.14.3 ibm-cos-sdk-core-2.14.3 ibm-cos-sdk-s3transfer-2.14.3 ibm-watson-machine-learning-1.0.368 jmespath-1.0.1 lomond-0.3.3 numpy-1.26.4 pandas-2.1.4\n"
          ]
        },
        {
          "output_type": "display_data",
          "data": {
            "application/vnd.colab-display-data+json": {
              "pip_warning": {
                "packages": [
                  "numpy",
                  "pandas"
                ]
              },
              "id": "d32513db34f645949ceeb2850d2cc9c0"
            }
          },
          "metadata": {}
        }
      ]
    },
    {
      "cell_type": "code",
      "source": [
        "!pip install -U langchain-community"
      ],
      "metadata": {
        "colab": {
          "base_uri": "https://localhost:8080/",
          "height": 1000
        },
        "id": "-r-5Y6i7GLdq",
        "outputId": "42b64ad5-f92a-4ff2-f714-e6869ddcb943"
      },
      "execution_count": 4,
      "outputs": [
        {
          "output_type": "stream",
          "name": "stdout",
          "text": [
            "Collecting langchain-community\n",
            "  Downloading langchain_community-0.3.30-py3-none-any.whl.metadata (3.0 kB)\n",
            "Requirement already satisfied: langchain-core<2.0.0,>=0.3.75 in /usr/local/lib/python3.12/dist-packages (from langchain-community) (0.3.77)\n",
            "Requirement already satisfied: langchain<2.0.0,>=0.3.27 in /usr/local/lib/python3.12/dist-packages (from langchain-community) (0.3.27)\n",
            "Requirement already satisfied: SQLAlchemy<3.0.0,>=1.4.0 in /usr/local/lib/python3.12/dist-packages (from langchain-community) (2.0.43)\n",
            "Collecting requests<3.0.0,>=2.32.5 (from langchain-community)\n",
            "  Downloading requests-2.32.5-py3-none-any.whl.metadata (4.9 kB)\n",
            "Requirement already satisfied: PyYAML<7.0.0,>=5.3.0 in /usr/local/lib/python3.12/dist-packages (from langchain-community) (6.0.3)\n",
            "Requirement already satisfied: aiohttp<4.0.0,>=3.8.3 in /usr/local/lib/python3.12/dist-packages (from langchain-community) (3.12.15)\n",
            "Requirement already satisfied: tenacity!=8.4.0,<10.0.0,>=8.1.0 in /usr/local/lib/python3.12/dist-packages (from langchain-community) (8.5.0)\n",
            "Collecting dataclasses-json<0.7.0,>=0.6.7 (from langchain-community)\n",
            "  Downloading dataclasses_json-0.6.7-py3-none-any.whl.metadata (25 kB)\n",
            "Requirement already satisfied: pydantic-settings<3.0.0,>=2.10.1 in /usr/local/lib/python3.12/dist-packages (from langchain-community) (2.11.0)\n",
            "Requirement already satisfied: langsmith<1.0.0,>=0.1.125 in /usr/local/lib/python3.12/dist-packages (from langchain-community) (0.4.31)\n",
            "Requirement already satisfied: httpx-sse<1.0.0,>=0.4.0 in /usr/local/lib/python3.12/dist-packages (from langchain-community) (0.4.1)\n",
            "Requirement already satisfied: numpy>=1.26.2 in /usr/local/lib/python3.12/dist-packages (from langchain-community) (1.26.4)\n",
            "Requirement already satisfied: aiohappyeyeballs>=2.5.0 in /usr/local/lib/python3.12/dist-packages (from aiohttp<4.0.0,>=3.8.3->langchain-community) (2.6.1)\n",
            "Requirement already satisfied: aiosignal>=1.4.0 in /usr/local/lib/python3.12/dist-packages (from aiohttp<4.0.0,>=3.8.3->langchain-community) (1.4.0)\n",
            "Requirement already satisfied: attrs>=17.3.0 in /usr/local/lib/python3.12/dist-packages (from aiohttp<4.0.0,>=3.8.3->langchain-community) (25.3.0)\n",
            "Requirement already satisfied: frozenlist>=1.1.1 in /usr/local/lib/python3.12/dist-packages (from aiohttp<4.0.0,>=3.8.3->langchain-community) (1.7.0)\n",
            "Requirement already satisfied: multidict<7.0,>=4.5 in /usr/local/lib/python3.12/dist-packages (from aiohttp<4.0.0,>=3.8.3->langchain-community) (6.6.4)\n",
            "Requirement already satisfied: propcache>=0.2.0 in /usr/local/lib/python3.12/dist-packages (from aiohttp<4.0.0,>=3.8.3->langchain-community) (0.3.2)\n",
            "Requirement already satisfied: yarl<2.0,>=1.17.0 in /usr/local/lib/python3.12/dist-packages (from aiohttp<4.0.0,>=3.8.3->langchain-community) (1.20.1)\n",
            "Collecting marshmallow<4.0.0,>=3.18.0 (from dataclasses-json<0.7.0,>=0.6.7->langchain-community)\n",
            "  Downloading marshmallow-3.26.1-py3-none-any.whl.metadata (7.3 kB)\n",
            "Collecting typing-inspect<1,>=0.4.0 (from dataclasses-json<0.7.0,>=0.6.7->langchain-community)\n",
            "  Downloading typing_inspect-0.9.0-py3-none-any.whl.metadata (1.5 kB)\n",
            "Requirement already satisfied: langchain-text-splitters<1.0.0,>=0.3.9 in /usr/local/lib/python3.12/dist-packages (from langchain<2.0.0,>=0.3.27->langchain-community) (0.3.11)\n",
            "Requirement already satisfied: pydantic<3.0.0,>=2.7.4 in /usr/local/lib/python3.12/dist-packages (from langchain<2.0.0,>=0.3.27->langchain-community) (2.11.9)\n",
            "Requirement already satisfied: jsonpatch<2.0.0,>=1.33.0 in /usr/local/lib/python3.12/dist-packages (from langchain-core<2.0.0,>=0.3.75->langchain-community) (1.33)\n",
            "Requirement already satisfied: typing-extensions<5.0.0,>=4.7.0 in /usr/local/lib/python3.12/dist-packages (from langchain-core<2.0.0,>=0.3.75->langchain-community) (4.15.0)\n",
            "Requirement already satisfied: packaging<26.0.0,>=23.2.0 in /usr/local/lib/python3.12/dist-packages (from langchain-core<2.0.0,>=0.3.75->langchain-community) (25.0)\n",
            "Requirement already satisfied: httpx<1,>=0.23.0 in /usr/local/lib/python3.12/dist-packages (from langsmith<1.0.0,>=0.1.125->langchain-community) (0.28.1)\n",
            "Requirement already satisfied: orjson>=3.9.14 in /usr/local/lib/python3.12/dist-packages (from langsmith<1.0.0,>=0.1.125->langchain-community) (3.11.3)\n",
            "Requirement already satisfied: requests-toolbelt>=1.0.0 in /usr/local/lib/python3.12/dist-packages (from langsmith<1.0.0,>=0.1.125->langchain-community) (1.0.0)\n",
            "Requirement already satisfied: zstandard>=0.23.0 in /usr/local/lib/python3.12/dist-packages (from langsmith<1.0.0,>=0.1.125->langchain-community) (0.25.0)\n",
            "Requirement already satisfied: python-dotenv>=0.21.0 in /usr/local/lib/python3.12/dist-packages (from pydantic-settings<3.0.0,>=2.10.1->langchain-community) (1.1.1)\n",
            "Requirement already satisfied: typing-inspection>=0.4.0 in /usr/local/lib/python3.12/dist-packages (from pydantic-settings<3.0.0,>=2.10.1->langchain-community) (0.4.2)\n",
            "Requirement already satisfied: charset_normalizer<4,>=2 in /usr/local/lib/python3.12/dist-packages (from requests<3.0.0,>=2.32.5->langchain-community) (3.4.3)\n",
            "Requirement already satisfied: idna<4,>=2.5 in /usr/local/lib/python3.12/dist-packages (from requests<3.0.0,>=2.32.5->langchain-community) (3.10)\n",
            "Requirement already satisfied: urllib3<3,>=1.21.1 in /usr/local/lib/python3.12/dist-packages (from requests<3.0.0,>=2.32.5->langchain-community) (2.5.0)\n",
            "Requirement already satisfied: certifi>=2017.4.17 in /usr/local/lib/python3.12/dist-packages (from requests<3.0.0,>=2.32.5->langchain-community) (2025.8.3)\n",
            "Requirement already satisfied: greenlet>=1 in /usr/local/lib/python3.12/dist-packages (from SQLAlchemy<3.0.0,>=1.4.0->langchain-community) (3.2.4)\n",
            "Requirement already satisfied: anyio in /usr/local/lib/python3.12/dist-packages (from httpx<1,>=0.23.0->langsmith<1.0.0,>=0.1.125->langchain-community) (4.11.0)\n",
            "Requirement already satisfied: httpcore==1.* in /usr/local/lib/python3.12/dist-packages (from httpx<1,>=0.23.0->langsmith<1.0.0,>=0.1.125->langchain-community) (1.0.9)\n",
            "Requirement already satisfied: h11>=0.16 in /usr/local/lib/python3.12/dist-packages (from httpcore==1.*->httpx<1,>=0.23.0->langsmith<1.0.0,>=0.1.125->langchain-community) (0.16.0)\n",
            "Requirement already satisfied: jsonpointer>=1.9 in /usr/local/lib/python3.12/dist-packages (from jsonpatch<2.0.0,>=1.33.0->langchain-core<2.0.0,>=0.3.75->langchain-community) (3.0.0)\n",
            "Requirement already satisfied: annotated-types>=0.6.0 in /usr/local/lib/python3.12/dist-packages (from pydantic<3.0.0,>=2.7.4->langchain<2.0.0,>=0.3.27->langchain-community) (0.7.0)\n",
            "Requirement already satisfied: pydantic-core==2.33.2 in /usr/local/lib/python3.12/dist-packages (from pydantic<3.0.0,>=2.7.4->langchain<2.0.0,>=0.3.27->langchain-community) (2.33.2)\n",
            "Collecting mypy-extensions>=0.3.0 (from typing-inspect<1,>=0.4.0->dataclasses-json<0.7.0,>=0.6.7->langchain-community)\n",
            "  Downloading mypy_extensions-1.1.0-py3-none-any.whl.metadata (1.1 kB)\n",
            "Requirement already satisfied: sniffio>=1.1 in /usr/local/lib/python3.12/dist-packages (from anyio->httpx<1,>=0.23.0->langsmith<1.0.0,>=0.1.125->langchain-community) (1.3.1)\n",
            "Downloading langchain_community-0.3.30-py3-none-any.whl (2.5 MB)\n",
            "\u001b[2K   \u001b[90m━━━━━━━━━━━━━━━━━━━━━━━━━━━━━━━━━━━━━━━━\u001b[0m \u001b[32m2.5/2.5 MB\u001b[0m \u001b[31m27.5 MB/s\u001b[0m eta \u001b[36m0:00:00\u001b[0m\n",
            "\u001b[?25hDownloading dataclasses_json-0.6.7-py3-none-any.whl (28 kB)\n",
            "Downloading requests-2.32.5-py3-none-any.whl (64 kB)\n",
            "\u001b[2K   \u001b[90m━━━━━━━━━━━━━━━━━━━━━━━━━━━━━━━━━━━━━━━━\u001b[0m \u001b[32m64.7/64.7 kB\u001b[0m \u001b[31m7.6 MB/s\u001b[0m eta \u001b[36m0:00:00\u001b[0m\n",
            "\u001b[?25hDownloading marshmallow-3.26.1-py3-none-any.whl (50 kB)\n",
            "\u001b[2K   \u001b[90m━━━━━━━━━━━━━━━━━━━━━━━━━━━━━━━━━━━━━━━━\u001b[0m \u001b[32m50.9/50.9 kB\u001b[0m \u001b[31m5.3 MB/s\u001b[0m eta \u001b[36m0:00:00\u001b[0m\n",
            "\u001b[?25hDownloading typing_inspect-0.9.0-py3-none-any.whl (8.8 kB)\n",
            "Downloading mypy_extensions-1.1.0-py3-none-any.whl (5.0 kB)\n",
            "Installing collected packages: requests, mypy-extensions, marshmallow, typing-inspect, dataclasses-json, langchain-community\n",
            "  Attempting uninstall: requests\n",
            "    Found existing installation: requests 2.32.4\n",
            "    Uninstalling requests-2.32.4:\n",
            "      Successfully uninstalled requests-2.32.4\n",
            "\u001b[31mERROR: pip's dependency resolver does not currently take into account all the packages that are installed. This behaviour is the source of the following dependency conflicts.\n",
            "google-colab 1.0.0 requires pandas==2.2.2, but you have pandas 2.1.4 which is incompatible.\n",
            "google-colab 1.0.0 requires requests==2.32.4, but you have requests 2.32.5 which is incompatible.\u001b[0m\u001b[31m\n",
            "\u001b[0mSuccessfully installed dataclasses-json-0.6.7 langchain-community-0.3.30 marshmallow-3.26.1 mypy-extensions-1.1.0 requests-2.32.5 typing-inspect-0.9.0\n"
          ]
        },
        {
          "output_type": "display_data",
          "data": {
            "application/vnd.colab-display-data+json": {
              "pip_warning": {
                "packages": [
                  "requests"
                ]
              },
              "id": "75d3e242482443ceaf5891592477e3b6"
            }
          },
          "metadata": {}
        }
      ]
    },
    {
      "cell_type": "code",
      "source": [
        "from ibm_watson_machine_learning.foundation_models import Model\n",
        "from ibm_watson_machine_learning.foundation_models.extensions.langchain import WatsonxLLM\n",
        "from ibm_watson_machine_learning.metanames import GenTextParamsMetaNames as GenParams\n",
        "from langchain.prompts import PromptTemplate\n",
        "\n",
        "# Dapatkan dari IBM Cloud dan WatsonX\n",
        "IAM_API_KEY = \"zt28t5FE40MHXCNzl11y_wXhjq76zzZKCZFVFodizBDr\"\n",
        "PROJECT_ID = \"ab4c6c3b-2129-41a8-beab-3c4519a23395\"\n",
        "\n",
        "# Konfigurasi model dan parameter\n",
        "model_id = \"ibm/granite-13b-instruct-v2\" # Model IBM Granite\n",
        "parameters = {\n",
        "    GenParams.DECODING_METHOD: \"greedy\",\n",
        "    GenParams.MAX_NEW_TOKENS: 200,\n",
        "    GenParams.TEMPERATURE: 0.1,  # Rendah untuk tugas klasifikasi/ringkasan yang faktual\n",
        "}\n",
        "\n",
        "# Inisialisasi Model IBM Granite\n",
        "try:\n",
        "    granite_model = Model(\n",
        "        model_id=model_id,\n",
        "        params=parameters,\n",
        "        credentials={\n",
        "            \"apikey\": IAM_API_KEY,\n",
        "            \"url\": \"https://jp-tok.ml.cloud.ibm.com\"\n",
        "        },\n",
        "        project_id=PROJECT_ID\n",
        "    )\n",
        "    llm = WatsonxLLM(model=granite_model)\n",
        "    print(\"✅ Koneksi ke IBM Granite berhasil!\")\n",
        "except Exception as e:\n",
        "    print(f\"❌ ERROR: Gagal menghubungkan ke IBM Granite. Periksa API Key/Project ID: {e}\")\n",
        ""
      ],
      "metadata": {
        "colab": {
          "base_uri": "https://localhost:8080/"
        },
        "id": "irMyxT-AFCIi",
        "outputId": "b84ef83c-8b68-4a49-dc2e-8bc38d033354"
      },
      "execution_count": 1,
      "outputs": [
        {
          "output_type": "stream",
          "name": "stderr",
          "text": [
            "/usr/local/lib/python3.12/dist-packages/ibm_watson_machine_learning/foundation_models/extensions/langchain/llm.py:60: WatsonxLLMDeprecationWarning: ibm_watson_machine_learning.foundation_models.extensions.langchain.WatsonxLLM is deprecated and will not be supported in the future. Please import from langchain-ibm instead.\n",
            "To install langchain-ibm run `pip install -U langchain-ibm`.\n",
            "  _raise_watsonxllm_deprecation_warning()\n"
          ]
        },
        {
          "output_type": "stream",
          "name": "stdout",
          "text": [
            "✅ Koneksi ke IBM Granite berhasil!\n"
          ]
        },
        {
          "output_type": "stream",
          "name": "stderr",
          "text": [
            "/usr/local/lib/python3.12/dist-packages/ibm_watson_machine_learning/foundation_models/utils/utils.py:273: LifecycleWarning: Model 'ibm/granite-13b-instruct-v2' is in deprecated state from 2025-06-18 until 2025-10-15. IDs of alternative models: ibm/granite-3-3-8b-instruct. Further details: https://dataplatform.cloud.ibm.com/docs/content/wsj/analyze-data/fm-model-lifecycle.html?context=wx&audience=wdp\n",
            "  warnings.warn(default_warning_template.format(\n"
          ]
        }
      ]
    },
    {
      "cell_type": "code",
      "source": [
        "# ==============================================================================\n",
        "# TAHAP 3: HASIL DAN WAWASAN (INSIGHT & FINDINGS)\n",
        "# ==============================================================================\n",
        "import pandas as pd\n",
        "import matplotlib.pyplot as plt\n",
        "import seaborn as sns\n",
        "import numpy as np\n",
        "\n",
        "# Muat data yang sudah dibersihkan dari Tahap 1\n",
        "df = pd.read_csv('myPertamina_cleaned.csv')\n",
        "\n",
        "# --- SIMULASI HASIL KLASIFIKASI DARI GRANITE (Untuk demonstrasi) ---\n",
        "# Anggap saja ini adalah kolom 'granite_category' yang seharusnya dihasilkan dari Tahap 2\n",
        "np.random.seed(42) # Untuk hasil yang dapat direproduksi\n",
        "categories = [\n",
        "    \"Barcode/QR Code & Verifikasi\",\n",
        "    \"UI/UX Aplikasi\",\n",
        "    \"Pembayaran/Top-Up\",\n",
        "    \"Layanan SPBU\",\n",
        "    \"Lain-lain/Ulasan Positif\"\n",
        "]\n",
        "# Simulasi hasil klasifikasi pada ulasan Negatif (score <= 2)\n",
        "negative_indices = df[df['sentiment_label'] == 'Negatif'].index\n",
        "df.loc[negative_indices, 'granite_category'] = np.random.choice(\n",
        "    categories,\n",
        "    size=len(negative_indices),\n",
        "    p=[0.40, 0.25, 0.15, 0.10, 0.10] # Asumsi Barcode/QR Code adalah isu terbesar\n",
        ")\n",
        "# Untuk ulasan Positif, kita beri label yang sesuai\n",
        "positive_indices = df[df['sentiment_label'] == 'Positif'].index\n",
        "df.loc[positive_indices, 'granite_category'] = 'Lain-lain/Ulasan Positif'\n",
        "\n",
        "# Isi sisanya (Netral) dengan kategori acak\n",
        "neutral_indices = df[df['sentiment_label'] == 'Netral'].index\n",
        "df.loc[neutral_indices, 'granite_category'] = np.random.choice(\n",
        "    categories,\n",
        "    size=len(neutral_indices),\n",
        "    p=[0.10, 0.20, 0.20, 0.10, 0.40]\n",
        ")\n",
        "\n",
        "print(\"✅ Data simulasi klasifikasi berhasil dibuat.\")"
      ],
      "metadata": {
        "colab": {
          "base_uri": "https://localhost:8080/"
        },
        "id": "hWDSm-kBGDic",
        "outputId": "64ac2376-9b94-4b5a-e88a-ed9a568d9e1c"
      },
      "execution_count": 6,
      "outputs": [
        {
          "output_type": "stream",
          "name": "stdout",
          "text": [
            "✅ Data simulasi klasifikasi berhasil dibuat.\n"
          ]
        }
      ]
    },
    {
      "cell_type": "code",
      "source": [
        "# 3. Analisis Isu Kritis (Fokus pada Ulasan Negatif)\n",
        "critical_analysis = df[df['sentiment_label'] == 'Negatif']\n",
        "issue_counts = critical_analysis['granite_category'].value_counts()\n",
        "issue_percentage = critical_analysis['granite_category'].value_counts(normalize=True).mul(100).round(1)\n",
        "\n",
        "# Gabungkan hasil untuk ditampilkan\n",
        "issue_summary = pd.DataFrame({\n",
        "    'Jumlah Ulasan Negatif': issue_counts,\n",
        "    'Persentase Total Negatif': issue_percentage\n",
        "}).sort_values(by='Jumlah Ulasan Negatif', ascending=False)\n",
        "\n",
        "print(\"\\n--- 4. Ringkasan Isu Kritis dari Ulasan Negatif ---\")\n",
        "print(issue_summary.to_markdown(numalign=\"left\", stralign=\"left\"))\n",
        "\n",
        "# Visualisasi Titik Gesekan Utama\n",
        "plt.figure(figsize=(10, 6))\n",
        "sns.barplot(\n",
        "    x=issue_summary.index,\n",
        "    y='Jumlah Ulasan Negatif',\n",
        "    data=issue_summary.reset_index(),\n",
        "    palette=\"Reds_d\"\n",
        ")\n",
        "plt.title('Titik Gesekan Utama (Dilihat dari Jumlah Ulasan Negatif)')\n",
        "plt.xlabel('Kategori Isu')\n",
        "plt.ylabel('Jumlah Ulasan Negatif')\n",
        "plt.xticks(rotation=45, ha='right')\n",
        "plt.tight_layout()\n",
        "plt.savefig('titik_gesekan_utama.png')\n",
        "plt.show()"
      ],
      "metadata": {
        "colab": {
          "base_uri": "https://localhost:8080/",
          "height": 763
        },
        "id": "1_dU6-1lJrth",
        "outputId": "da4ca3f3-5aa0-4a39-fd4b-e5376630af70"
      },
      "execution_count": 7,
      "outputs": [
        {
          "output_type": "stream",
          "name": "stdout",
          "text": [
            "\n",
            "--- 4. Ringkasan Isu Kritis dari Ulasan Negatif ---\n",
            "| granite_category             | Jumlah Ulasan Negatif   | Persentase Total Negatif   |\n",
            "|:-----------------------------|:------------------------|:---------------------------|\n",
            "| Barcode/QR Code & Verifikasi | 4230                    | 40.5                       |\n",
            "| UI/UX Aplikasi               | 2658                    | 25.5                       |\n",
            "| Pembayaran/Top-Up            | 1496                    | 14.3                       |\n",
            "| Layanan SPBU                 | 1047                    | 10                         |\n",
            "| Lain-lain/Ulasan Positif     | 1005                    | 9.6                        |\n"
          ]
        },
        {
          "output_type": "display_data",
          "data": {
            "text/plain": [
              "<Figure size 1000x600 with 1 Axes>"
            ],
            "image/png": "[encoded data removed]"
          },
          "metadata": {}
        }
      ]
    },
    {
      "cell_type": "code",
      "source": [
        "# 5. Analisis Kualitas Respon\n",
        "# Filter hanya ulasan yang mendapat balasan DAN termasuk isu kritis (Barcode/QR Code)\n",
        "replied_critical_issues = df[\n",
        "    (df['replyContent'].notna()) &\n",
        "    (df['granite_category'] == 'Barcode/QR Code & Verifikasi')\n",
        "].copy()\n",
        "\n",
        "# Buat fungsi sederhana untuk mengecek apakah balasan terlihat 'Generik'\n",
        "# (Mencari kata kunci umum dalam bahasa Indonesia)\n",
        "generic_keywords = ['terima kasih atas masukannya', 'mohon maaf atas ketidaknyamanan yang dialami', 'silakan sampaikan melalui']\n",
        "def check_genericity(reply):\n",
        "    if isinstance(reply, str):\n",
        "        # Hitung berapa banyak keyword generik yang muncul\n",
        "        count = sum(1 for keyword in generic_keywords if keyword in reply.lower())\n",
        "        return 'Generik' if count >= 2 else 'Spesifik'\n",
        "    return 'Tidak Dibalas'\n",
        "\n",
        "replied_critical_issues['reply_type'] = replied_critical_issues['replyContent'].apply(check_genericity)\n",
        "\n",
        "reply_analysis = replied_critical_issues['reply_type'].value_counts(normalize=True).mul(100).round(1)\n",
        "\n",
        "print(\"\\n--- 6. Analisis Kualitas Respon pada Isu Barcode Kritis ---\")\n",
        "print(reply_analysis.to_markdown(numalign=\"left\", stralign=\"left\"))\n",
        "\n",
        "# Tampilkan salah satu contoh\n",
        "example_generic = replied_critical_issues[replied_critical_issues['reply_type'] == 'Generik'].iloc[0]\n",
        "print(\"\\nContoh Ulasan & Balasan Generik:\")\n",
        "print(f\"Ulasan: {example_generic['content'][:150]}...\")\n",
        "print(f\"Balasan: {example_generic['replyContent'][:150]}...\")"
      ],
      "metadata": {
        "colab": {
          "base_uri": "https://localhost:8080/"
        },
        "id": "2tWdHafcJthM",
        "outputId": "bd44eccb-2d41-44a2-8b2b-b041d645d1fa"
      },
      "execution_count": 8,
      "outputs": [
        {
          "output_type": "stream",
          "name": "stdout",
          "text": [
            "\n",
            "--- 6. Analisis Kualitas Respon pada Isu Barcode Kritis ---\n",
            "| reply_type   | proportion   |\n",
            "|:-------------|:-------------|\n",
            "| Spesifik     | 83.4         |\n",
            "| Generik      | 16.6         |\n",
            "\n",
            "Contoh Ulasan & Balasan Generik:\n",
            "Ulasan: Apk tidak jelas komplain gak di respon jawabannya sama setiap minta keterangan.. Barcode di blokir.. Sudah mengisi persyaratan dan sdh dapat ID pelapo...\n",
            "Balasan: Hai, Sobat Erwin. Mohon maaf atas ketidaknyamanan yang dialami. Mimin membutuhkan data pendukung agar Mimin bisa memberikan solusi dengan tepat. Menge...\n"
          ]
        }
      ]
    },
    {
      "cell_type": "code",
      "source": [
        "# ==============================================================================\n",
        "# TAHAP 4.1: EKSTRAKSI RINGKASAN ISU KRITIS (Manual/Mock Output Granite)\n",
        "# ==============================================================================\n",
        "import pandas as pd\n",
        "\n",
        "# Muat data hasil analisis mock dari Tahap 3\n",
        "df = pd.read_csv('/content/myPertamina_analisis_mock.csv')\n",
        "\n",
        "# Ambil 5 ulasan teratas di kategori kritis (Barcode/QR Code & Verifikasi)\n",
        "CRITICAL_ISSUE = 'Barcode/QR Code & Verifikasi'\n",
        "critical_reviews_sample = df[\n",
        "    (df['granite_category'] == CRITICAL_ISSUE) &\n",
        "    (df['sentiment_label'] == 'Negatif')\n",
        "].head(5)[['content']].to_markdown(index=False, numalign=\"left\", stralign=\"left\")\n",
        "\n",
        "print(\"--- Contoh Ulasan Kritis (Input untuk Manual Summarization) ---\")\n",
        "print(critical_reviews_sample)\n",
        "\n",
        "# Output Manual/Mock Summarization (Anda harus mengisi ini berdasarkan contoh di atas)\n",
        "# Ini adalah pengganti output dari LLM di Tahap 2.\n",
        "summarization_output = \"\"\"\n",
        "1. Kesulitan Verifikasi QR Code: Pengguna sering mengeluhkan kegagalan atau lambatnya proses scan QR code yang berujung pada antrean panjang dan transaksi gagal.\n",
        "2. Pemblokiran Akun Mendadak: Banyak pengguna melaporkan akun mereka diblokir tanpa adanya pemberitahuan atau kejelasan, dan proses pelaporan/banding yang sangat sulit direspon.\n",
        "3. Inkonsistensi Data: Terdapat laporan mengenai data yang tidak sesuai antara di aplikasi dengan data di lapangan, terutama terkait kuota BBM subsidi.\n",
        "\"\"\"\n",
        "\n",
        "print(\"\\n--- Ringkasan 3 Poin Utama (Simulasi Output IBM Granite) ---\")\n",
        "print(summarization_output)\n",
        "\n",
        "# Simpan ringkasan ini sebagai insight utama\n",
        "with open('ringkasan_granite.txt', 'w') as f:\n",
        "    f.write(summarization_output)"
      ],
      "metadata": {
        "colab": {
          "base_uri": "https://localhost:8080/"
        },
        "id": "6ybb-XBPJ8rK",
        "outputId": "51f8ecb0-2011-4c10-bc8c-fcfc0300b3b2"
      },
      "execution_count": 11,
      "outputs": [
        {
          "output_type": "stream",
          "name": "stdout",
          "text": [
            "--- Contoh Ulasan Kritis (Input untuk Manual Summarization) ---\n",
            "| content                                                                                                                                                                                                                                                                                                       |\n",
            "|:--------------------------------------------------------------------------------------------------------------------------------------------------------------------------------------------------------------------------------------------------------------------------------------------------------------|\n",
            "| Apk tidak jelas komplain gak di respon jawabannya sama setiap minta keterangan.. Barcode di blokir.. Sudah mengisi persyaratan dan sdh dapat ID pelaporan... Sampai sekarang 1 bln lebih tidak ada kejelasan. Ya Alloh sungguh sedih untuk mencari keadilan di negara ini... Karena oknum yang tidak kompeten |\n",
            "| Ntah aplikasi apa ini, buat susah, settingan foto kalian itu ngeblur terus, foto ktp jadi gagal terus, dicoba pake hp semahal apapun tetap ngeblur, tolong perbaiki lah aplikasinya                                                                                                                           |\n",
            "| Masyarakat di arahkan untuk pakai apk Mypertamina,, tp maintenance untuk aplikasi mypertamina di SPBU(motor) tidak di perhatikan (sering error) sekarang2 ini. Khususnya SPBU Jl.Kartini kel.margahayu Bekasi.                                                                                                |\n",
            "| Okeh MY PERTANI A Makasih banyak                                                                                                                                                                                                                                                                              |\n",
            "| Wow keren                                                                                                                                                                                                                                                                                                     |\n",
            "\n",
            "--- Ringkasan 3 Poin Utama (Simulasi Output IBM Granite) ---\n",
            "\n",
            "1. Kesulitan Verifikasi QR Code: Pengguna sering mengeluhkan kegagalan atau lambatnya proses scan QR code yang berujung pada antrean panjang dan transaksi gagal.\n",
            "2. Pemblokiran Akun Mendadak: Banyak pengguna melaporkan akun mereka diblokir tanpa adanya pemberitahuan atau kejelasan, dan proses pelaporan/banding yang sangat sulit direspon.\n",
            "3. Inkonsistensi Data: Terdapat laporan mengenai data yang tidak sesuai antara di aplikasi dengan data di lapangan, terutama terkait kuota BBM subsidi.\n",
            "\n"
          ]
        }
      ]
    },
    {
      "cell_type": "code",
      "source": [],
      "metadata": {
        "id": "HfegcBZpKmUU"
      },
      "execution_count": null,
      "outputs": []
    }
  ]
}